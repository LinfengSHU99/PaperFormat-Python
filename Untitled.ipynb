{
 "cells": [
  {
   "cell_type": "code",
   "execution_count": 2,
   "id": "1db03b04",
   "metadata": {},
   "outputs": [
    {
     "name": "stdout",
     "output_type": "stream",
     "text": [
      "<Element {http://schemas.openxmlformats.org/wordprocessingml/2006/main}document at 0x283b7dba840>\n"
     ]
    }
   ],
   "source": [
    "from lxml import etree\n",
    "tree = etree.ElementTree(file = './1/word/document.xml')\n",
    "print(tree.getroot())\n",
    "root = tree.getroot()"
   ]
  },
  {
   "cell_type": "code",
   "execution_count": 6,
   "id": "aea14c74",
   "metadata": {
    "scrolled": true
   },
   "outputs": [
    {
     "data": {
      "text/plain": [
       "'{http://schemas.openxmlformats.org/wordprocessingml/2006/main}document'"
      ]
     },
     "execution_count": 6,
     "metadata": {},
     "output_type": "execute_result"
    }
   ],
   "source": [
    "root.tag"
   ]
  },
  {
   "cell_type": "code",
   "execution_count": 7,
   "id": "aa0270c6",
   "metadata": {},
   "outputs": [
    {
     "data": {
      "text/plain": [
       "{'{http://schemas.openxmlformats.org/markup-compatibility/2006}Ignorable': 'w14 w15 w16se w16cid w16 w16cex w16sdtdh wp14'}"
      ]
     },
     "execution_count": 7,
     "metadata": {},
     "output_type": "execute_result"
    }
   ],
   "source": [
    "root.attrib"
   ]
  },
  {
   "cell_type": "code",
   "execution_count": 9,
   "id": "f6de7f28",
   "metadata": {},
   "outputs": [
    {
     "name": "stdout",
     "output_type": "stream",
     "text": [
      "{http://schemas.openxmlformats.org/wordprocessingml/2006/main}p\n",
      "{http://schemas.openxmlformats.org/wordprocessingml/2006/main}p\n",
      "{http://schemas.openxmlformats.org/wordprocessingml/2006/main}p\n",
      "{http://schemas.openxmlformats.org/wordprocessingml/2006/main}p\n",
      "{http://schemas.openxmlformats.org/wordprocessingml/2006/main}p\n",
      "{http://schemas.openxmlformats.org/wordprocessingml/2006/main}sectPr\n"
     ]
    }
   ],
   "source": [
    "for node in root[0]:\n",
    "    print(node.tag)"
   ]
  },
  {
   "cell_type": "code",
   "execution_count": 29,
   "id": "e5d70e00",
   "metadata": {},
   "outputs": [
    {
     "name": "stdout",
     "output_type": "stream",
     "text": [
      "默认的标题1样式\n",
      "默认\n",
      "格式第\n",
      "一段正文\n"
     ]
    }
   ],
   "source": [
    "w='{http://schemas.openxmlformats.org/wordprocessingml/2006/main}'\n",
    "for elem in tree.iter(tag = '{http://schemas.openxmlformats.org/wordprocessingml/2006/main}t'):\n",
    "    rpr = elem.getprevious()\n",
    "    for c in rpr:\n",
    "        if c.tag == w+\"sz\":\n",
    "            break\n",
    "    else:\n",
    "        print(elem.text)"
   ]
  },
  {
   "cell_type": "code",
   "execution_count": 13,
   "id": "260b71cf",
   "metadata": {},
   "outputs": [
    {
     "name": "stdout",
     "output_type": "stream",
     "text": [
      "<Element {http://schemas.openxmlformats.org/wordprocessingml/2006/main}styles at 0x283b7f44cc0>\n"
     ]
    },
    {
     "data": {
      "text/plain": [
       "lxml.etree._Element"
      ]
     },
     "execution_count": 13,
     "metadata": {},
     "output_type": "execute_result"
    }
   ],
   "source": [
    "tree = etree.ElementTree(file = './1/word/styles.xml')\n",
    "print(tree.getroot())\n",
    "root = tree.getroot()\n",
    "w='{http://schemas.openxmlformats.org/wordprocessingml/2006/main}'\n",
    "type(root)\n",
    "            "
   ]
  },
  {
   "cell_type": "code",
   "execution_count": 15,
   "id": "d8f1a831",
   "metadata": {},
   "outputs": [
    {
     "ename": "SyntaxError",
     "evalue": "invalid syntax (<ipython-input-15-de2f39c1170a>, line 3)",
     "output_type": "error",
     "traceback": [
      "\u001b[1;36m  File \u001b[1;32m\"<ipython-input-15-de2f39c1170a>\"\u001b[1;36m, line \u001b[1;32m3\u001b[0m\n\u001b[1;33m    if style[0].tag == w + 'name' && style[0].attrib[w + 'val'] == 'Normal':\u001b[0m\n\u001b[1;37m                                   ^\u001b[0m\n\u001b[1;31mSyntaxError\u001b[0m\u001b[1;31m:\u001b[0m invalid syntax\n"
     ]
    }
   ],
   "source": [
    "styles = root.tree.iter(tag = w + 'style')\n",
    "for style in styles:\n",
    "    if style[0].tag == w + 'name' && style[0].attrib[w + 'val'] == 'Normal':\n",
    "        for c in style:\n",
    "            if c.tag == w + 'pPr' :\n",
    "                \n",
    "            \n",
    "#     for c in style:\n",
    "#         if c.tag == w + 'name' && c.attrib[w + 'val'] == 'Normal':\n",
    "#             s = c.getparent()\n",
    "            "
   ]
  },
  {
   "cell_type": "code",
   "execution_count": null,
   "id": "ae679a8b",
   "metadata": {},
   "outputs": [],
   "source": [
    "#以下代码很重要"
   ]
  },
  {
   "cell_type": "code",
   "execution_count": 64,
   "id": "90847dfb",
   "metadata": {},
   "outputs": [],
   "source": [
    "#存在一个问题，用python写入的xml文件内所有的中文会转换为对应的Unicode码，文件最上方的一行信息也消失\n",
    "from lxml import etree\n",
    "import sys\n",
    "tree = etree.ElementTree(file = '../document.xml')\n",
    "w='{http://schemas.openxmlformats.org/wordprocessingml/2006/main}'\n",
    "\n",
    "for p in tree.iter(tag = w + 'p'):\n",
    "    pPr = p[0]\n",
    "    for c_of_pPr in pPr:\n",
    "        if c_of_pPr.tag == w + \"pStyle\":\n",
    "            c_of_pPr.set(w + 'val', 'slf')  #一个段落应用了段落样式，将其改为我们自己设置的段落样式\n",
    "            \n",
    "for rpr in tree.iter(tag = w + 'rPr'):\n",
    "#     直接删除所有的<rPr>项，使得文件的格式都使用的是<pPr>中<pStyle>定义的样式。\n",
    "    rpr.getparent().remove(rpr)\n",
    "tree.write('../documentnew.xml', encoding = 'utf-8')  #在写入xml文件时，加入encoding = 'utf-8' 即可解决写入的中文为Unicode码的问题\n"
   ]
  },
  {
   "cell_type": "code",
   "execution_count": 68,
   "id": "de8f81cc",
   "metadata": {},
   "outputs": [
    {
     "name": "stdout",
     "output_type": "stream",
     "text": [
      "<w:document xmlns:wpc=\"http://schemas.microsoft.com/office/word/2010/wordprocessingCanvas\" xmlns:cx=\"http://schemas.microsoft.com/office/drawing/2014/chartex\" xmlns:cx1=\"http://schemas.microsoft.com/office/drawing/2015/9/8/chartex\" xmlns:cx2=\"http://schemas.microsoft.com/office/drawing/2015/10/21/chartex\" xmlns:cx3=\"http://schemas.microsoft.com/office/drawing/2016/5/9/chartex\" xmlns:cx4=\"http://schemas.microsoft.com/office/drawing/2016/5/10/chartex\" xmlns:cx5=\"http://schemas.microsoft.com/office/drawing/2016/5/11/chartex\" xmlns:cx6=\"http://schemas.microsoft.com/office/drawing/2016/5/12/chartex\" xmlns:cx7=\"http://schemas.microsoft.com/office/drawing/2016/5/13/chartex\" xmlns:cx8=\"http://schemas.microsoft.com/office/drawing/2016/5/14/chartex\" xmlns:mc=\"http://schemas.openxmlformats.org/markup-compatibility/2006\" xmlns:aink=\"http://schemas.microsoft.com/office/drawing/2016/ink\" xmlns:am3d=\"http://schemas.microsoft.com/office/drawing/2017/model3d\" xmlns:o=\"urn:schemas-microsoft-com:office:office\" xmlns:r=\"http://schemas.openxmlformats.org/officeDocument/2006/relationships\" xmlns:m=\"http://schemas.openxmlformats.org/officeDocument/2006/math\" xmlns:v=\"urn:schemas-microsoft-com:vml\" xmlns:wp14=\"http://schemas.microsoft.com/office/word/2010/wordprocessingDrawing\" xmlns:wp=\"http://schemas.openxmlformats.org/drawingml/2006/wordprocessingDrawing\" xmlns:w10=\"urn:schemas-microsoft-com:office:word\" xmlns:w=\"http://schemas.openxmlformats.org/wordprocessingml/2006/main\" xmlns:w14=\"http://schemas.microsoft.com/office/word/2010/wordml\" xmlns:w15=\"http://schemas.microsoft.com/office/word/2012/wordml\" xmlns:w16cex=\"http://schemas.microsoft.com/office/word/2018/wordml/cex\" xmlns:w16cid=\"http://schemas.microsoft.com/office/word/2016/wordml/cid\" xmlns:w16=\"http://schemas.microsoft.com/office/word/2018/wordml\" xmlns:w16sdtdh=\"http://schemas.microsoft.com/office/word/2020/wordml/sdtdatahash\" xmlns:w16se=\"http://schemas.microsoft.com/office/word/2015/wordml/symex\" xmlns:wpg=\"http://schemas.microsoft.com/office/word/2010/wordprocessingGroup\" xmlns:wpi=\"http://schemas.microsoft.com/office/word/2010/wordprocessingInk\" xmlns:wne=\"http://schemas.microsoft.com/office/word/2006/wordml\" xmlns:wps=\"http://schemas.microsoft.com/office/word/2010/wordprocessingShape\" mc:Ignorable=\"w14 w15 w16se w16cid w16 w16cex w16sdtdh wp14\">\n",
      "\t<w:body>\n",
      "\t\t<w:p w14:paraId=\"4E21DFAD\" w14:textId=\"75D426C5\" w:rsidR=\"00DA3624\" w:rsidRDefault=\"00DA3624\" w:rsidP=\"00DA3624\">\n",
      "\t\t\t<w:pPr>\n",
      "\t\t\t\t<w:pStyle w:val=\"slf\"/>\n",
      "\t\t\t\t</w:pPr>\n",
      "\t\t\t<w:r>\n",
      "\t\t\t\t<w:t>&#40664;&#35748;&#30340;&#26631;&#39064;1&#26679;&#24335;</w:t>\n",
      "\t\t\t</w:r>\n",
      "\t\t</w:p>\n",
      "\t\t<w:p w14:paraId=\"47C3B543\" w14:textId=\"2B50AFE8\" w:rsidR=\"00DA3624\" w:rsidRDefault=\"00DA3624\">\n",
      "\t\t\t<w:pPr>\n",
      "\t\t\t\t</w:pPr>\n",
      "\t\t\t<w:r>\n",
      "\t\t\t\t<w:t>&#40664;&#35748;</w:t>\n",
      "\t\t\t</w:r>\n",
      "\t\t\t<w:proofErr w:type=\"gramStart\"/>\n",
      "\t\t\t<w:r>\n",
      "\t\t\t\t<w:t>&#26684;&#24335;&#31532;</w:t>\n",
      "\t\t\t</w:r>\n",
      "\t\t\t<w:proofErr w:type=\"gramEnd\"/>\n",
      "\t\t\t<w:r>\n",
      "\t\t\t\t<w:t>&#19968;&#27573;&#27491;&#25991;</w:t>\n",
      "\t\t\t</w:r>\n",
      "\t\t</w:p>\n",
      "\t\t<w:p w14:paraId=\"36841E88\" w14:textId=\"008BF0DF\" w:rsidR=\"00DA3624\" w:rsidRDefault=\"00DA3624\" w:rsidP=\"00DA3624\">\n",
      "\t\t\t<w:pPr>\n",
      "\t\t\t\t<w:pStyle w:val=\"slf\"/>\n",
      "\t\t\t\t</w:pPr>\n",
      "\t\t\t<w:r w:rsidRPr=\"00DA3624\">\n",
      "\t\t\t\t<w:t>&#20462;&#25913;&#26684;&#24335;&#21518;&#30340;&#26631;&#39064;1</w:t>\n",
      "\t\t\t</w:r>\n",
      "\t\t</w:p>\n",
      "\t\t<w:p w14:paraId=\"13A45948\" w14:textId=\"2FB218CB\" w:rsidR=\"00DA3624\" w:rsidRPr=\"00DA3624\" w:rsidRDefault=\"00DA3624\" w:rsidP=\"00DA3624\">\n",
      "\t\t\t<w:pPr>\n",
      "\t\t\t\t</w:pPr>\n",
      "\t\t\t<w:r w:rsidRPr=\"00DA3624\">\n",
      "\t\t\t\t<w:t>&#20462;&#25913;&#26684;&#24335;&#21518;&#30340;&#27491;&#25991;</w:t>\n",
      "\t\t\t</w:r>\n",
      "\t\t</w:p>\n",
      "\t\t<w:p w14:paraId=\"548375CD\" w14:textId=\"71C17C7B\" w:rsidR=\"00DA3624\" w:rsidRDefault=\"00DA3624\">\n",
      "\t\t\t<w:pPr>\n",
      "\t\t\t\t</w:pPr>\n",
      "\t\t</w:p>\n",
      "\t\t<w:sectPr w:rsidR=\"00DA3624\">\n",
      "\t\t\t<w:pgSz w:w=\"11906\" w:h=\"16838\"/>\n",
      "\t\t\t<w:pgMar w:top=\"1440\" w:right=\"1800\" w:bottom=\"1440\" w:left=\"1800\" w:header=\"851\" w:footer=\"992\" w:gutter=\"0\"/>\n",
      "\t\t\t<w:cols w:space=\"425\"/>\n",
      "\t\t\t<w:docGrid w:type=\"lines\" w:linePitch=\"312\"/>\n",
      "\t\t</w:sectPr>\n",
      "\t</w:body>\n",
      "</w:document>\n"
     ]
    }
   ],
   "source": [
    "print(etree.tostring(tree).decode('utf-8'))\n"
   ]
  }
 ],
 "metadata": {
  "kernelspec": {
   "display_name": "Python 3",
   "language": "python",
   "name": "python3"
  },
  "language_info": {
   "codemirror_mode": {
    "name": "ipython",
    "version": 3
   },
   "file_extension": ".py",
   "mimetype": "text/x-python",
   "name": "python",
   "nbconvert_exporter": "python",
   "pygments_lexer": "ipython3",
   "version": "3.8.8"
  }
 },
 "nbformat": 4,
 "nbformat_minor": 5
}
