{
 "cells": [
  {
   "cell_type": "code",
   "execution_count": 2,
   "id": "bfa922bc",
   "metadata": {},
   "outputs": [
    {
     "name": "stdout",
     "output_type": "stream",
     "text": [
      "./\n",
      "./docProps\n",
      "./word\n",
      "./word\\theme\n",
      "./word\\_rels\n",
      "./_rels\n"
     ]
    }
   ],
   "source": [
    "import zipfile\n",
    "import os\n",
    "f = zipfile.ZipFile(\"rsid.docx\")  #打开需要修改的docx文件\n",
    "f.extractall('./workfolder')    #提取要修改的docx文件里的所有文件到workfolder文件夹\n",
    "f.close()\n",
    "newf = zipfile.ZipFile('new.docx', 'w')   #创建一个新的docx文件，作为修改后的docx\n",
    "os.chdir('workfolder')   #修改当前工作目录到workfolder\n",
    "\n",
    "\n",
    "\n",
    "'''省略执行修改的程序'''\n",
    "\n",
    "\n",
    "for root, dirs, files in os.walk('./'):  #将workfolder文件夹所有的文件压缩至new.docx\n",
    "    print(root)\n",
    "    for file in files:\n",
    "#         root = os.path.relpath(root[,'workfolder'])\n",
    "        dir = root + '/' + file\n",
    "        newf.write(dir)\n",
    "newf.close()\n",
    "os.chdir('../')   #切换工作目录至原来的路径\n"
   ]
  },
  {
   "cell_type": "code",
   "execution_count": 27,
   "id": "b791b980",
   "metadata": {},
   "outputs": [],
   "source": [
    "newf.close()"
   ]
  },
  {
   "cell_type": "code",
   "execution_count": 23,
   "id": "666b7bff",
   "metadata": {},
   "outputs": [
    {
     "data": {
      "text/plain": [
       "lxml.etree._Element"
      ]
     },
     "execution_count": 23,
     "metadata": {},
     "output_type": "execute_result"
    }
   ],
   "source": [
    "import zipfile\n",
    "import os\n",
    "import re\n",
    "from lxml import etree\n",
    "import sys\n",
    "os.chdir('C:\\\\Users\\\\97498\\\\Desktop\\\\论文格式')\n",
    "f = zipfile.ZipFile(\"肖露露毕业论文.docx\")  #打开需要修改的docx文件\n",
    "f.extractall('./workfolder')    #提取要修改的docx文件里的所有文件到workfolder文件夹\n",
    "f.close()\n",
    "newf = zipfile.ZipFile('new.docx', 'w')   #创建一个新的docx文件，作为修改后的docx\n",
    "os.chdir('workfolder')   #修改当前工作目录到workfolder\n",
    "file = open(file='../标题.txt', mode='w')\n",
    "tree = etree.ElementTree(file = './word/document.xml')\n",
    "w = '{http://schemas.openxmlformats.org/wordprocessingml/2006/main}'\n",
    "paratextlist = []\n",
    "document = tree.getroot()\n",
    "body = document[0]\n",
    "preparaHperlink = False\n",
    "for p in body:\n",
    "    if p.tag == w + 'p':    #避免添加表格中的文字\n",
    "        \n",
    "        text = ''\n",
    "        for t in p.iter(tag = w + 't'):\n",
    "            text += t.text\n",
    "        if text != '':\n",
    "            paratextlist.append(text)\n",
    "        \n",
    "reg = ['[1-9]', '[1-9][0-9]*\\.[1-9][0-9]*','[1-9][0-9]*\\.[1-9][0-9]*\\..+?']\n",
    "for i in range(len(reg)):\n",
    "    reg[i] = re.compile(reg[i])\n",
    "\n",
    "for text in paratextlist:\n",
    "    i = 0\n",
    "    match = False\n",
    "    if len(text) < 20 :\n",
    "        for i in reversed(range(len(reg))):\n",
    "            if re.match(reg[i], text):\n",
    "                match = True\n",
    "                break\n",
    "                \n",
    "    if match:\n",
    "        if i == 2:\n",
    "            file.write(text + '  三级标题\\n')\n",
    "        elif i == 1:\n",
    "            file.write(text + '  二级标题\\n')\n",
    "        else:\n",
    "            file.write(text + '  一级标题\\n')\n",
    "'''省略执行修改的程序'''\n",
    "\n",
    "\n",
    "\n",
    "# for root, dirs, files in os.walk('./'):  #将workfolder文件夹所有的文件压缩至new.docx\n",
    "#     print(root)\n",
    "#     for file in files:\n",
    "# #         root = os.path.relpath(root[,'workfolder'])\n",
    "#         dir = root + '/' + file\n",
    "#         newf.write(dir)\n",
    "# newf.close()\n",
    "# os.chdir('../')   #切换工作目录至原来的路径\n",
    "file.close()\n",
    "os.chdir('../')   #切换工作目录至原来的路径\n",
    "type(body)"
   ]
  },
  {
   "cell_type": "code",
   "execution_count": 26,
   "id": "e8539fb1",
   "metadata": {},
   "outputs": [
    {
     "ename": "IndexError",
     "evalue": "list index out of range",
     "output_type": "error",
     "traceback": [
      "\u001b[1;31m---------------------------------------------------------------------------\u001b[0m",
      "\u001b[1;31mIndexError\u001b[0m                                Traceback (most recent call last)",
      "\u001b[1;32m<ipython-input-26-1db408738f7d>\u001b[0m in \u001b[0;36m<module>\u001b[1;34m\u001b[0m\n\u001b[0;32m      1\u001b[0m \u001b[0mlist\u001b[0m \u001b[1;33m=\u001b[0m \u001b[1;33m[\u001b[0m\u001b[1;33m]\u001b[0m\u001b[1;33m\u001b[0m\u001b[1;33m\u001b[0m\u001b[0m\n\u001b[1;32m----> 2\u001b[1;33m \u001b[0mlist\u001b[0m\u001b[1;33m[\u001b[0m\u001b[1;36m0\u001b[0m\u001b[1;33m]\u001b[0m\u001b[1;33m\u001b[0m\u001b[1;33m\u001b[0m\u001b[0m\n\u001b[0m",
      "\u001b[1;31mIndexError\u001b[0m: list index out of range"
     ]
    }
   ],
   "source": [
    "list = []\n",
    "list[0]"
   ]
  }
 ],
 "metadata": {
  "kernelspec": {
   "display_name": "Python 3",
   "language": "python",
   "name": "python3"
  },
  "language_info": {
   "codemirror_mode": {
    "name": "ipython",
    "version": 3
   },
   "file_extension": ".py",
   "mimetype": "text/x-python",
   "name": "python",
   "nbconvert_exporter": "python",
   "pygments_lexer": "ipython3",
   "version": "3.8.8"
  }
 },
 "nbformat": 4,
 "nbformat_minor": 5
}
